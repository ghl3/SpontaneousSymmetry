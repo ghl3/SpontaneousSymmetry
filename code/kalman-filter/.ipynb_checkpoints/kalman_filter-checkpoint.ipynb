{
 "cells": [
  {
   "cell_type": "code",
   "execution_count": 1,
   "metadata": {},
   "outputs": [],
   "source": [
    "from __future__ import division"
   ]
  },
  {
   "cell_type": "code",
   "execution_count": 2,
   "metadata": {},
   "outputs": [],
   "source": [
    "import tensorflow as tf"
   ]
  },
  {
   "cell_type": "markdown",
   "metadata": {},
   "source": [
    "## Simple Kalman Filter"
   ]
  },
  {
   "cell_type": "code",
   "execution_count": 3,
   "metadata": {},
   "outputs": [],
   "source": [
    "vector_size = 2"
   ]
  },
  {
   "cell_type": "code",
   "execution_count": 4,
   "metadata": {},
   "outputs": [],
   "source": [
    "g_simple = tf.Graph()\n",
    "\n",
    "with g_simple.as_default():\n",
    "            \n",
    "    with tf.variable_scope('prior'):\n",
    "        \n",
    "        # We fix the prior to have mean 0 and std-dev of a high number\n",
    "        prior_mu = tf.zeros(shape=(vector_size,1), dtype=tf.float32, name='mu')\n",
    "        prior_sigma = tf.constant([[1000, 0], [0, 1000]], dtype=tf.float32) #tf.identity(1000*tf.ones(shape=(vector_size, vector_size), dtype=tf.float32), name='sigma')                                \n",
    "        \n",
    "    with tf.variable_scope('measurement'):\n",
    "                \n",
    "        measurement_mean = tf.placeholder(tf.float32, shape=(vector_size,1), name='mean')\n",
    "        measurement_error = tf.placeholder(tf.float32, shape=(vector_size, vector_size), name='error')\n",
    "\n",
    "        # Time difference between this measurement and the previous measurement\n",
    "        measurement_dt = tf.placeholder(tf.float32, shape=(), name='dt')\n",
    "\n",
    "    with tf.variable_scope('inferred'):\n",
    "        inferred_mu = tf.Variable(tf.zeros(dtype=tf.float32, shape=(vector_size,1)), name='mu')\n",
    "        inferred_sigma = tf.Variable(tf.ones(dtype=tf.float32, shape=(vector_size, vector_size)), name='sigma')         \n",
    "        \n",
    "    with tf.variable_scope('dynamics'):\n",
    "             \n",
    "        T = tf.identity(\n",
    "            tf.constant([[1.0, 0.0], [0.0, 1.0]], dtype=tf.float32, name='a') + measurement_dt * tf.constant([[0.0, 1.0], [0.0, 0.0]], dtype=tf.float32, name='b'),\n",
    "            name='T')\n",
    "                                        \n",
    "    with tf.variable_scope('actions'):\n",
    "        \n",
    "        reset_to_prior = tf.group([\n",
    "            tf.assign(inferred_mu, prior_mu),\n",
    "            tf.assign(inferred_sigma, prior_sigma)])\n",
    "        \n",
    "        # Update with dynamics\n",
    "        mu_ip1_tmp = tf.matmul(T, inferred_mu)\n",
    "        sigma_ip1_tmp = tf.matmul(tf.matmul(T, inferred_sigma), tf.transpose(T))\n",
    "\n",
    "        # Update with measurements    \n",
    "        sigma_ip1 = tf.matrix_inverse(tf.matrix_inverse(sigma_ip1_tmp) + tf.matrix_inverse(measurement_error))\n",
    "        \n",
    "        mu_ip1 = tf.matmul(sigma_ip1,\n",
    "                           tf.matmul(tf.matrix_inverse(sigma_ip1_tmp), mu_ip1_tmp) + \\\n",
    "                           tf.matmul(tf.matrix_inverse(measurement_error), measurement_mean)\n",
    "                          )\n",
    "    \n",
    "        update = tf.group([\n",
    "            tf.assign(inferred_mu, mu_ip1),\n",
    "            tf.assign(inferred_sigma, sigma_ip1)])\n",
    "    "
   ]
  },
  {
   "cell_type": "code",
   "execution_count": 5,
   "metadata": {},
   "outputs": [
    {
     "data": {
      "text/plain": [
       "[[1, 1, -5.934757597723149, 5.0, 6.85375255871473, 8.0],\n",
       " [2, 1, 4.091799719778488, 5.0, 19.265566964153845, 8.0],\n",
       " [3, 1, 9.593903037960482, 5.0, -9.734449146582348, 8.0],\n",
       " [4, 1, 2.9452877770947934, 5.0, 1.5957311357540633, 8.0],\n",
       " [5, 1, 8.577475838641154, 5.0, 12.369339427905523, 8.0],\n",
       " [6, 1, 16.672248415000155, 5.0, 1.1982251657506884, 8.0],\n",
       " [7, 1, 15.274713035923446, 5.0, 6.555745326127503, 8.0],\n",
       " [8, 1, 18.538042185984835, 5.0, 1.8750431404320944, 8.0],\n",
       " [9, 1, 25.40280190652263, 5.0, -11.163035492896144, 8.0],\n",
       " [10, 1, 21.415848353898937, 5.0, 7.543836707933255, 8.0],\n",
       " [11, 1, 23.41601979364591, 5.0, -9.507347437120387, 8.0],\n",
       " [12, 1, 25.58873461551781, 5.0, -12.069400045981864, 8.0],\n",
       " [13, 1, 26.529403523364824, 5.0, -8.996981030397013, 8.0],\n",
       " [14, 1, 21.630502355766442, 5.0, 4.250376330821749, 8.0],\n",
       " [15, 1, 22.87015685426143, 5.0, 2.3175846150542, 8.0],\n",
       " [16, 1, 27.675259606179605, 5.0, 0.36594516499780205, 8.0],\n",
       " [17, 1, 44.304380992592726, 5.0, 7.499637569461226, 8.0],\n",
       " [18, 1, 35.40591202107751, 5.0, 3.990941658215684, 8.0],\n",
       " [19, 1, 36.08062288344073, 5.0, 1.3669528497802224, 8.0],\n",
       " [20, 1, 48.155300203408025, 5.0, -5.017667525607176, 8.0],\n",
       " [21, 1, 46.02906243139455, 5.0, -0.3718392069925498, 8.0],\n",
       " [22, 1, 43.34073480488675, 5.0, 3.911685000995189, 8.0],\n",
       " [23, 1, 47.722289691932886, 5.0, -8.073312343280813, 8.0],\n",
       " [24, 1, 49.09222215419783, 5.0, -7.642683329933716, 8.0]]"
      ]
     },
     "execution_count": 5,
     "metadata": {},
     "output_type": "execute_result"
    }
   ],
   "source": [
    "# Generate random data\n",
    "\n",
    "from scipy.stats import norm\n",
    "\n",
    "# At time 0\n",
    "d0 = 0\n",
    "v0 = 2.0\n",
    "dt = 1\n",
    "sigma_d = 5.0\n",
    "sigma_v = 8.0\n",
    "\n",
    "truth = [[i, dt, d0 + v0*i, v0] for i in range(1, 25)]\n",
    "\n",
    "data = [[i, dt,\n",
    "         di + norm.rvs(loc=0, scale=sigma_d), sigma_d,\n",
    "         vi + norm.rvs(loc=0, scale=sigma_v), sigma_v] for i, dt, di, vi in truth]\n",
    "\n",
    "data"
   ]
  },
  {
   "cell_type": "code",
   "execution_count": 8,
   "metadata": {
    "scrolled": false
   },
   "outputs": [
    {
     "name": "stdout",
     "output_type": "stream",
     "text": [
      "0: X=0.00 (31.62) V=0.00 (31.62)\n",
      "1: X=-5.65 (4.94) V=5.76 (7.54)\n",
      "2: X=4.87 (4.16) V=11.15 (4.28)\n",
      "3: X=9.36 (4.01) V=6.69 (2.75)\n",
      "4: X=7.89 (3.84) V=3.45 (1.93)\n",
      "5: X=10.44 (3.65) V=3.28 (1.43)\n",
      "6: X=15.04 (3.46) V=3.61 (1.11)\n",
      "7: X=17.29 (3.29) V=3.32 (0.90)\n",
      "8: X=19.75 (3.14) V=3.15 (0.74)\n",
      "9: X=23.45 (3.01) V=3.22 (0.62)\n",
      "10: X=25.00 (2.89) V=2.96 (0.54)\n",
      "11: X=26.35 (2.78) V=2.72 (0.47)\n",
      "12: X=27.86 (2.68) V=2.56 (0.41)\n",
      "13: X=29.22 (2.59) V=2.41 (0.36)\n",
      "14: X=29.13 (2.51) V=2.13 (0.33)\n",
      "15: X=29.27 (2.44) V=1.93 (0.29)\n",
      "16: X=30.39 (2.37) V=1.85 (0.27)\n",
      "17: X=34.85 (2.31) V=2.09 (0.24)\n",
      "18: X=36.64 (2.25) V=2.06 (0.23)\n",
      "19: X=38.19 (2.19) V=2.02 (0.21)\n",
      "20: X=41.64 (2.14) V=2.13 (0.19)\n",
      "21: X=44.15 (2.10) V=2.16 (0.18)\n",
      "22: X=45.82 (2.05) V=2.12 (0.17)\n",
      "23: X=47.86 (2.01) V=2.12 (0.16)\n",
      "24: X=49.80 (1.97) V=2.10 (0.15)\n"
     ]
    }
   ],
   "source": [
    "import numpy as np\n",
    "import math\n",
    "\n",
    "inferred = []\n",
    "\n",
    "with tf.Session(graph = g_simple) as sess:\n",
    "    \n",
    "    tf.global_variables_initializer()\n",
    "\n",
    "    sess.run(reset_to_prior)\n",
    "    \n",
    "    last = 0\n",
    "    \n",
    "    def get_state(i):\n",
    "        mu_inf, sig_inf = sess.run([inferred_mu, inferred_sigma])\n",
    "        return (i,\n",
    "                mu_inf[0][0],  math.sqrt(sig_inf[0][0]),\n",
    "                mu_inf[1][0],  math.sqrt(sig_inf[1][1]))\n",
    "        \n",
    "    inferred.append(get_state(0))\n",
    "    print \"{}: X={:.2f} ({:.2f}) V={:.2f} ({:.2f})\".format(*get_state(0)) \n",
    "\n",
    "    for i, dt, d, sigma_d, v, sigma_v in data:\n",
    "\n",
    "        sess.run(update,\n",
    "                 {measurement_dt: dt,\n",
    "                  measurement_mean: [[d], [v]],\n",
    "                  measurement_error: [[sigma_d**2, 0.0], [0.0, sigma_v**2]]})\n",
    "    \n",
    "        print \"{}: X={:.2f} ({:.2f}) V={:.2f} ({:.2f})\".format(*get_state(i)) \n",
    "        \n",
    "        inferred.append(get_state(i))\n"
   ]
  },
  {
   "cell_type": "code",
   "execution_count": 9,
   "metadata": {},
   "outputs": [
    {
     "data": {
      "text/plain": [
       "[(0, 0.0, 31.622776601683793, 0.0, 31.622776601683793),\n",
       " (1, -5.6496305, 4.94206895568487, 5.7554755, 7.537652930484359),\n",
       " (2, 4.8705697, 4.157094310389018, 11.14844, 4.284621199219457),\n",
       " (3, 9.364894, 4.012743914549604, 6.691987, 2.7540589635184163),\n",
       " (4, 7.8856344, 3.8375838528396593, 3.4497461, 1.9255312124737347),\n",
       " (5, 10.444267, 3.6459942300806305, 3.2798755, 1.4313782247217686),\n",
       " (6, 15.036093, 3.4619136492859415, 3.6070306, 1.1132096116959032),\n",
       " (7, 17.29284, 3.2937335193084185, 3.3181367, 0.895747461565037),\n",
       " (8, 19.748604, 3.1427809873246897, 3.1462362, 0.7399926508074617),\n",
       " (9, 23.452795, 3.007883363359637, 3.21601, 0.6242012403417166),\n",
       " (10, 25.004827, 2.887177592191471, 2.9634483, 0.5354854378772773),\n",
       " (11, 26.350288, 2.778767195496956, 2.723085, 0.46580740472915866),\n",
       " (12, 27.857391, 2.680947855395705, 2.5550976, 0.4099372460733387),\n",
       " (13, 29.224657, 2.5922507123730028, 2.4071445, 0.364346920292469),\n",
       " (14, 29.128555, 2.511438333333357, 2.1323042, 0.3265830092857202),\n",
       " (15, 29.268566, 2.4374694822308323, 1.9278588, 0.29489336444401115),\n",
       " (16, 30.39249, 2.3694725967628965, 1.850102, 0.2679979970113433),\n",
       " (17, 34.852234, 2.3067152510287467, 2.0873559, 0.2449428880916054),\n",
       " (18, 36.64223, 2.248577515972468, 2.0624213, 0.22500409811314404),\n",
       " (19, 38.194935, 2.194534869953238, 2.0211713, 0.20762381233562338),\n",
       " (20, 41.637356, 2.144139210594018, 2.128894, 0.1923659844953661),\n",
       " (21, 44.151745, 2.0970068126926167, 2.1566446, 0.1788854840982902),\n",
       " (22, 45.816193, 2.052806384768112, 2.1226432, 0.16690595530812657),\n",
       " (23, 47.86099, 2.0112509174238142, 2.1164284, 0.1562038472677759),\n",
       " (24, 49.802006, 1.9720903548032314, 2.104392, 0.1465965667877662)]"
      ]
     },
     "execution_count": 9,
     "metadata": {},
     "output_type": "execute_result"
    }
   ],
   "source": [
    "inferred"
   ]
  },
  {
   "cell_type": "code",
   "execution_count": 10,
   "metadata": {},
   "outputs": [],
   "source": [
    "import matplotlib.pyplot as plt\n",
    "%matplotlib inline"
   ]
  },
  {
   "cell_type": "code",
   "execution_count": 11,
   "metadata": {
    "scrolled": false
   },
   "outputs": [
    {
     "data": {
      "text/plain": [
       "<matplotlib.legend.Legend at 0x111d1a8d0>"
      ]
     },
     "execution_count": 11,
     "metadata": {},
     "output_type": "execute_result"
    },
    {
     "data": {
      "image/png": "[encoded data removed]",
      "text/plain": [
       "<Figure size 1152x576 with 2 Axes>"
      ]
     },
     "metadata": {},
     "output_type": "display_data"
    }
   ],
   "source": [
    "fig = plt.figure(figsize=(16,8))\n",
    "\n",
    "\n",
    "plt.subplot(1, 2, 1)\n",
    "\n",
    "plt.errorbar([i for i, _, _, _, _, _ in data],\n",
    "             [d for i, _, d, _, _, _ in data],\n",
    "             yerr=[d_sigma for i, _, d, d_sigma, _, _ in data],\n",
    "             fmt='o', alpha=0.3,\n",
    "             color='black',\n",
    "             label='measured')\n",
    "\n",
    "plt.fill_between([x[0] for x in inferred],\n",
    "                 [x[1] - x[2] for x in inferred],\n",
    "                 [x[1] + x[2] for x in inferred],\n",
    "                 alpha=0.5,\n",
    "                 label='filtered')\n",
    "\n",
    "plt.plot([i for i, _, _, _ in truth],\n",
    "         [x for _, _, x, _ in truth],\n",
    "         color='green',\n",
    "         label='truth')\n",
    "\n",
    "plt.legend(loc='best')\n",
    "\n",
    "\n",
    "plt.subplot(1, 2, 2)\n",
    "\n",
    "plt.errorbar([i for i, _, _, _, _, _ in data],\n",
    "             [v for i, _, _, _, v, _ in data],\n",
    "             yerr=[v_sigma for i, _, _, _, v, v_sigma in data],\n",
    "             fmt='o', alpha=0.3,\n",
    "             color='black',\n",
    "             label='measured')\n",
    "\n",
    "plt.fill_between([x[0] for x in inferred],\n",
    "                 [x[3] - x[4] for x in inferred],\n",
    "                 [x[3] + x[4] for x in inferred],\n",
    "                 alpha=0.5,\n",
    "                 label='filtered')\n",
    "\n",
    "plt.plot([i for i, _, _, _ in truth],\n",
    "         [v for _, _, _, v in truth],\n",
    "         color='green',\n",
    "         label='truth')\n",
    "\n",
    "plt.legend(loc='best')"
   ]
  },
  {
   "cell_type": "markdown",
   "metadata": {},
   "source": [
    "The plots above show how the inferences from the Kalman Filter evolve as a function of time and measurements.  One can see that both the position and the velocity measurements start with large uncertainties (initially due to the input priors).  But, as more measurments are acquired, the uncertainy bands grow smaller and small.  In particular with the velocity estimate, the inference from the Kalman Filter converges very strongly on the true, constant value (even though the uncertainties on any individual measurement are high)."
   ]
  },
  {
   "cell_type": "markdown",
   "metadata": {},
   "source": [
    "## Full Kalman Filter"
   ]
  },
  {
   "cell_type": "code",
   "execution_count": null,
   "metadata": {},
   "outputs": [],
   "source": []
  },
  {
   "cell_type": "code",
   "execution_count": null,
   "metadata": {},
   "outputs": [],
   "source": [
    "g_full = tf.Graph()\n",
    "\n",
    "with g_full.as_default():\n",
    "            \n",
    "    with tf.variable_scope('prior'):\n",
    "        \n",
    "        # We fix the prior to have mean 0 and std-dev of a high number\n",
    "        prior_mu = tf.zeros(shape=(vector_size,1), dtype=tf.float32, name='mu')\n",
    "        prior_sigma = tf.constant([[1000, 0], [0, 1000]], dtype=tf.float32) #tf.identity(1000*tf.ones(shape=(vector_size, vector_size), dtype=tf.float32), name='sigma')                                \n",
    "        \n",
    "    with tf.variable_scope('measurement'):\n",
    "                \n",
    "        measurement_mean = tf.placeholder(tf.float32, shape=(vector_size,1), name='mean')\n",
    "        measurement_error = tf.placeholder(tf.float32, shape=(vector_size, vector_size), name='error')\n",
    "\n",
    "        # Time difference between this measurement and the previous measurement\n",
    "        measurement_dt = tf.placeholder(tf.float32, shape=(), name='dt')\n",
    "\n",
    "    with tf.variable_scope('inferred'):\n",
    "        inferred_mu = tf.Variable(tf.zeros(dtype=tf.float32, shape=(vector_size,1)), name='mu')\n",
    "        inferred_sigma = tf.Variable(tf.ones(dtype=tf.float32, shape=(vector_size, vector_size)), name='sigma')         \n",
    "        \n",
    "    with tf.variable_scope('dynamics'):\n",
    "             \n",
    "        T = tf.identity(\n",
    "            tf.constant([[1.0, 0.0], [0.0, 1.0]], dtype=tf.float32, name='a') + measurement_dt * tf.constant([[0.0, 1.0], [0.0, 0.0]], dtype=tf.float32, name='b'),\n",
    "            name='T')\n",
    "                \n",
    "        u = tf.placeholder(tf.float32, shape=(vector_size,1), name='influence')                \n",
    "        B = tf.placeholder(tf.float32, shape=(vector_size, vector_size), name='influence_matrix')        \n",
    "        Q = tf.placeholder(tf.float32, shape=(vector_size, vector_size), name='dynamic_noise')\n",
    "                                        \n",
    "    with tf.variable_scope('actions'):\n",
    "        \n",
    "        reset_to_prior = tf.group([\n",
    "            tf.assign(inferred_mu, prior_mu),\n",
    "            tf.assign(inferred_sigma, prior_sigma)])\n",
    "        \n",
    "        # Update with dynamics\n",
    "        mu_ip1_tmp = tf.matmul(T, inferred_mu) + tf.matmul(B, u)\n",
    "        sigma_ip1_tmp = tf.matmul(tf.matmul(T, inferred_sigma), tf.transpose(T)) + Q\n",
    "\n",
    "        # Update with measurements    \n",
    "        sigma_ip1 = tf.matrix_inverse(tf.matrix_inverse(sigma_ip1_tmp) + tf.matrix_inverse(measurement_error))\n",
    "        \n",
    "        mu_ip1 = tf.matmul(sigma_ip1,\n",
    "                           tf.matmul(tf.matrix_inverse(sigma_ip1_tmp), mu_ip1_tmp) + \\\n",
    "                           tf.matmul(tf.matrix_inverse(measurement_error), measurement_mean)\n",
    "                          )\n",
    "    \n",
    "        update = tf.group([\n",
    "            tf.assign(inferred_mu, mu_ip1),\n",
    "            tf.assign(inferred_sigma, sigma_ip1)])"
   ]
  }
 ],
 "metadata": {
  "kernelspec": {
   "display_name": "Python 2",
   "language": "python",
   "name": "python2"
  },
  "language_info": {
   "codemirror_mode": {
    "name": "ipython",
    "version": 2
   },
   "file_extension": ".py",
   "mimetype": "text/x-python",
   "name": "python",
   "nbconvert_exporter": "python",
   "pygments_lexer": "ipython2",
   "version": "2.7.15"
  }
 },
 "nbformat": 4,
 "nbformat_minor": 2
}
